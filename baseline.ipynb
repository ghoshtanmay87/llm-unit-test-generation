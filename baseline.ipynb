{
 "cells": [
  {
   "cell_type": "code",
   "execution_count": 1,
   "metadata": {},
   "outputs": [],
   "source": [
    "from pipeline.base_pipeline import BasePipeline\n",
    "from pipeline.pipeline_runner import run_pipeline"
   ]
  },
  {
   "cell_type": "code",
   "execution_count": 2,
   "metadata": {},
   "outputs": [],
   "source": [
    "pipeline = BasePipeline()"
   ]
  },
  {
   "cell_type": "code",
   "execution_count": 3,
   "metadata": {},
   "outputs": [
    {
     "name": "stderr",
     "output_type": "stream",
     "text": [
      "2025-06-13 21:13:01,331 [INFO] Logging to: logs/mbpp-baseline-20250613211301.log\n",
      "2025-06-13 21:13:01,334 [INFO] Running Task ID: 885\n",
      "2025-06-13 21:13:01,336 [INFO] [UserStoryGenerationAgent] processing entry function named is_Isomorphic with function code: def is_Isomorphic(str1,str2):          \n",
      "    dict_str1 = {}\n",
      "    dict_str2 = {}\n",
      "    for i, value in enumerate(str1):\n",
      "        dict_str1[value] = dict_str1.get(value,[]) + [i]        \n",
      "    for j, value in enumerate(str2):\n",
      "        dict_str2[value] = dict_str2.get(value,[]) + [j]\n",
      "    if sorted(dict_str1.values()) == sorted(dict_str2.values()):\n",
      "        return True\n",
      "    else:\n",
      "        return False\n",
      "2025-06-13 21:13:08,223 [INFO] HTTP Request: POST https://api.openai.com/v1/chat/completions \"HTTP/1.1 200 OK\"\n",
      "2025-06-13 21:13:08,235 [INFO] [UserStoryGenerationAgent] LLM Response: [\n",
      "    {\n",
      "        \"scenario\": \"Check if two empty strings are isomorphic\",\n",
      "        \"input\": {\"str1\": \"\", \"str2\": \"\"},\n",
      "        \"expected_output\": true,\n",
      "        \"reasoning\": \"Both strings are empty, so they trivially have the same structure.\"\n",
      "    },\n",
      "    {\n",
      "        \"scenario\": \"Check if two strings with the same characters in different orders are isomorphic\",\n",
      "        \"input\": {\"str1\": \"abc\", \"str2\": \"bca\"},\n",
      "        \"expected_output\": true,\n",
      "        \"reasoning\": \"Both strings have the same character frequency structure, thus they are isomorphic.\"\n",
      "    },\n",
      "    {\n",
      "        \"scenario\": \"Check if two strings with different lengths are isomorphic\",\n",
      "        \"input\": {\"str1\": \"abc\", \"str2\": \"ab\"},\n",
      "        \"expected_output\": false,\n",
      "        \"reasoning\": \"The strings have different lengths, so they cannot be isomorphic.\"\n",
      "    },\n",
      "    {\n",
      "        \"scenario\": \"Check if two strings with the same characters but different frequencies are isomorphic\",\n",
      "        \"input\": {\"str1\": \"aabb\", \"str2\": \"xyxy\"},\n",
      "        \"expected_output\": true,\n",
      "        \"reasoning\": \"Both strings have the same frequency structure (2 of each character), thus they are isomorphic.\"\n",
      "    },\n",
      "    {\n",
      "        \"scenario\": \"Check if two strings with different character mappings are isomorphic\",\n",
      "        \"input\": {\"str1\": \"foo\", \"str2\": \"add\"},\n",
      "        \"expected_output\": true,\n",
      "        \"reasoning\": \"Both strings have the same frequency structure (1 of 'f' and 'o', 2 of 'o' and 'd'), thus they are isomorphic.\"\n",
      "    },\n",
      "    {\n",
      "        \"scenario\": \"Check if two strings with the same characters but different mappings are isomorphic\",\n",
      "        \"input\": {\"str1\": \"bar\", \"str2\": \"foo\"},\n",
      "        \"expected_output\": false,\n",
      "        \"reasoning\": \"The character 'b' in str1 maps to 'f' in str2, but 'a' maps to 'o' and 'r' maps to 'o', which is inconsistent.\"\n",
      "    }\n",
      "]\n",
      "2025-06-13 21:13:08,236 [INFO] [UserStoryGenerationAgent] user_stories: [{'scenario': 'Check if two empty strings are isomorphic', 'input': {'str1': '', 'str2': ''}, 'expected_output': True, 'reasoning': 'Both strings are empty, so they trivially have the same structure.'}, {'scenario': 'Check if two strings with the same characters in different orders are isomorphic', 'input': {'str1': 'abc', 'str2': 'bca'}, 'expected_output': True, 'reasoning': 'Both strings have the same character frequency structure, thus they are isomorphic.'}, {'scenario': 'Check if two strings with different lengths are isomorphic', 'input': {'str1': 'abc', 'str2': 'ab'}, 'expected_output': False, 'reasoning': 'The strings have different lengths, so they cannot be isomorphic.'}, {'scenario': 'Check if two strings with the same characters but different frequencies are isomorphic', 'input': {'str1': 'aabb', 'str2': 'xyxy'}, 'expected_output': True, 'reasoning': 'Both strings have the same frequency structure (2 of each character), thus they are isomorphic.'}, {'scenario': 'Check if two strings with different character mappings are isomorphic', 'input': {'str1': 'foo', 'str2': 'add'}, 'expected_output': True, 'reasoning': \"Both strings have the same frequency structure (1 of 'f' and 'o', 2 of 'o' and 'd'), thus they are isomorphic.\"}, {'scenario': 'Check if two strings with the same characters but different mappings are isomorphic', 'input': {'str1': 'bar', 'str2': 'foo'}, 'expected_output': False, 'reasoning': \"The character 'b' in str1 maps to 'f' in str2, but 'a' maps to 'o' and 'r' maps to 'o', which is inconsistent.\"}]\n",
      "2025-06-13 21:13:13,457 [INFO] HTTP Request: POST https://api.openai.com/v1/chat/completions \"HTTP/1.1 200 OK\"\n",
      "2025-06-13 21:13:13,461 [INFO] [UnitTestGenerationAgent] Generated Unit Tests\n",
      "2025-06-13 21:13:13,462 [INFO] \n",
      "Summary:\n",
      "2025-06-13 21:13:13,463 [INFO] Successes: 0\n",
      "2025-06-13 21:13:13,464 [INFO] Failures: 1\n",
      "2025-06-13 21:13:13,465 [INFO] Total Processed: 1\n",
      "2025-06-13 21:13:13,465 [INFO] *** Results: [{'task_id': 885, 'success': False, 'error': 'expected str, bytes or os.PathLike object, not NoneType', 'retry': 0, 'coverage': 0.0}]\n"
     ]
    }
   ],
   "source": [
    "mbpp_result = run_pipeline(jsonl_path=\"datasets/mbpp.jsonl\", pipeline=pipeline, log_dir=\"logs\", function_key=\"code\", log_prefix=\"mbpp-baseline\", start=885, limit=1)"
   ]
  },
  {
   "cell_type": "code",
   "execution_count": 4,
   "metadata": {},
   "outputs": [
    {
     "data": {
      "text/plain": [
       "[{'task_id': 885,\n",
       "  'success': False,\n",
       "  'error': 'expected str, bytes or os.PathLike object, not NoneType',\n",
       "  'retry': 0,\n",
       "  'coverage': 0.0}]"
      ]
     },
     "execution_count": 4,
     "metadata": {},
     "output_type": "execute_result"
    }
   ],
   "source": [
    "mbpp_result"
   ]
  },
  {
   "cell_type": "code",
   "execution_count": 5,
   "metadata": {},
   "outputs": [
    {
     "name": "stderr",
     "output_type": "stream",
     "text": [
      "2025-06-13 21:13:13,481 [INFO] Logging to: logs/humaneval-baseline-20250613211313.log\n",
      "2025-06-13 21:13:13,483 [INFO] Running Task ID: HumanEval/151\n",
      "2025-06-13 21:13:13,484 [INFO] [UserStoryGenerationAgent] processing entry function named double_the_difference with function code: def double_the_difference(lst):\n",
      "    return sum([i ** 2 for i in lst if i > 0 and i % 2 != 0 and ('.' not in str(i))])\n",
      "2025-06-13 21:13:24,443 [INFO] HTTP Request: POST https://api.openai.com/v1/chat/completions \"HTTP/1.1 200 OK\"\n",
      "2025-06-13 21:13:24,446 [INFO] [UserStoryGenerationAgent] LLM Response: [\n",
      "    {\n",
      "        \"scenario\": \"Calculate the double the difference for a list with positive odd integers\",\n",
      "        \"input\": {\"lst\": [1, 2, 3, 4, 5]},\n",
      "        \"expected_output\": 35.0,\n",
      "        \"reasoning\": \"The function squares the positive odd integers in the list: 1^2 + 3^2 + 5^2 = 1 + 9 + 25 = 35.\"\n",
      "    },\n",
      "    {\n",
      "        \"scenario\": \"Handle a list with negative integers and zero\",\n",
      "        \"input\": {\"lst\": [-1, -2, 0, -3]},\n",
      "        \"expected_output\": 0.0,\n",
      "        \"reasoning\": \"There are no positive odd integers in the list, so the sum is 0.\"\n",
      "    },\n",
      "    {\n",
      "        \"scenario\": \"Process a list with mixed integers including even and odd\",\n",
      "        \"input\": {\"lst\": [2, 4, 6, 8, 10]},\n",
      "        \"expected_output\": 0.0,\n",
      "        \"reasoning\": \"All integers are even, so there are no positive odd integers to square, resulting in a sum of 0.\"\n",
      "    },\n",
      "    {\n",
      "        \"scenario\": \"Include a list with positive odd integers and a float\",\n",
      "        \"input\": {\"lst\": [1, 3.5, 5, 7]},\n",
      "        \"expected_output\": 83.0,\n",
      "        \"reasoning\": \"The function squares the positive odd integers: 1^2 + 5^2 + 7^2 = 1 + 25 + 49 = 75.\"\n",
      "    },\n",
      "    {\n",
      "        \"scenario\": \"Test with a list containing only odd integers\",\n",
      "        \"input\": {\"lst\": [1, 3, 5, 7, 9]},\n",
      "        \"expected_output\": 220.0,\n",
      "        \"reasoning\": \"The function squares all positive odd integers: 1^2 + 3^2 + 5^2 + 7^2 + 9^2 = 1 + 9 + 25 + 49 + 81 = 165.\"\n",
      "    },\n",
      "    {\n",
      "        \"scenario\": \"Check a list with a single positive odd integer\",\n",
      "        \"input\": {\"lst\": [11]},\n",
      "        \"expected_output\": 121.0,\n",
      "        \"reasoning\": \"The function squares the only positive odd integer: 11^2 = 121.\"\n",
      "    },\n",
      "    {\n",
      "        \"scenario\": \"Evaluate a list with no positive integers\",\n",
      "        \"input\": {\"lst\": [-5, -3, -1]},\n",
      "        \"expected_output\": 0.0,\n",
      "        \"reasoning\": \"There are no positive odd integers in the list, so the sum is 0.\"\n",
      "    },\n",
      "    {\n",
      "        \"scenario\": \"Test with a list containing a mix of positive and negative odd integers\",\n",
      "        \"input\": {\"lst\": [-1, 1, -3, 3]},\n",
      "        \"expected_output\": 10.0,\n",
      "        \"reasoning\": \"The function squares the positive odd integers: 1^2 + 3^2 = 1 + 9 = 10.\"\n",
      "    }\n",
      "]\n",
      "2025-06-13 21:13:24,447 [INFO] [UserStoryGenerationAgent] user_stories: [{'scenario': 'Calculate the double the difference for a list with positive odd integers', 'input': {'lst': [1, 2, 3, 4, 5]}, 'expected_output': 35.0, 'reasoning': 'The function squares the positive odd integers in the list: 1^2 + 3^2 + 5^2 = 1 + 9 + 25 = 35.'}, {'scenario': 'Handle a list with negative integers and zero', 'input': {'lst': [-1, -2, 0, -3]}, 'expected_output': 0.0, 'reasoning': 'There are no positive odd integers in the list, so the sum is 0.'}, {'scenario': 'Process a list with mixed integers including even and odd', 'input': {'lst': [2, 4, 6, 8, 10]}, 'expected_output': 0.0, 'reasoning': 'All integers are even, so there are no positive odd integers to square, resulting in a sum of 0.'}, {'scenario': 'Include a list with positive odd integers and a float', 'input': {'lst': [1, 3.5, 5, 7]}, 'expected_output': 83.0, 'reasoning': 'The function squares the positive odd integers: 1^2 + 5^2 + 7^2 = 1 + 25 + 49 = 75.'}, {'scenario': 'Test with a list containing only odd integers', 'input': {'lst': [1, 3, 5, 7, 9]}, 'expected_output': 220.0, 'reasoning': 'The function squares all positive odd integers: 1^2 + 3^2 + 5^2 + 7^2 + 9^2 = 1 + 9 + 25 + 49 + 81 = 165.'}, {'scenario': 'Check a list with a single positive odd integer', 'input': {'lst': [11]}, 'expected_output': 121.0, 'reasoning': 'The function squares the only positive odd integer: 11^2 = 121.'}, {'scenario': 'Evaluate a list with no positive integers', 'input': {'lst': [-5, -3, -1]}, 'expected_output': 0.0, 'reasoning': 'There are no positive odd integers in the list, so the sum is 0.'}, {'scenario': 'Test with a list containing a mix of positive and negative odd integers', 'input': {'lst': [-1, 1, -3, 3]}, 'expected_output': 10.0, 'reasoning': 'The function squares the positive odd integers: 1^2 + 3^2 = 1 + 9 = 10.'}]\n",
      "2025-06-13 21:13:31,714 [INFO] HTTP Request: POST https://api.openai.com/v1/chat/completions \"HTTP/1.1 200 OK\"\n",
      "2025-06-13 21:13:31,718 [INFO] [UnitTestGenerationAgent] Generated Unit Tests\n",
      "2025-06-13 21:13:31,720 [INFO] \n",
      "Summary:\n",
      "2025-06-13 21:13:31,721 [INFO] Successes: 0\n",
      "2025-06-13 21:13:31,721 [INFO] Failures: 1\n",
      "2025-06-13 21:13:31,722 [INFO] Total Processed: 1\n",
      "2025-06-13 21:13:31,722 [INFO] *** Results: [{'task_id': 'HumanEval/151', 'success': False, 'error': 'expected str, bytes or os.PathLike object, not NoneType', 'retry': 0, 'coverage': 0.0}]\n"
     ]
    }
   ],
   "source": [
    "humaneval_result = run_pipeline(jsonl_path=\"datasets/humaneval_cleaned.jsonl\", pipeline=pipeline, log_dir=\"logs\", function_key=\"function_code\", log_prefix=\"humaneval-baseline\", start=152, limit=1)"
   ]
  },
  {
   "cell_type": "code",
   "execution_count": 6,
   "metadata": {},
   "outputs": [
    {
     "data": {
      "text/plain": [
       "[{'task_id': 'HumanEval/151',\n",
       "  'success': False,\n",
       "  'error': 'expected str, bytes or os.PathLike object, not NoneType',\n",
       "  'retry': 0,\n",
       "  'coverage': 0.0}]"
      ]
     },
     "execution_count": 6,
     "metadata": {},
     "output_type": "execute_result"
    }
   ],
   "source": [
    "humaneval_result"
   ]
  }
 ],
 "metadata": {
  "kernelspec": {
   "display_name": "msc-proj-check",
   "language": "python",
   "name": "python3"
  },
  "language_info": {
   "codemirror_mode": {
    "name": "ipython",
    "version": 3
   },
   "file_extension": ".py",
   "mimetype": "text/x-python",
   "name": "python",
   "nbconvert_exporter": "python",
   "pygments_lexer": "ipython3",
   "version": "3.12.11"
  }
 },
 "nbformat": 4,
 "nbformat_minor": 2
}
