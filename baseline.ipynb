{
 "cells": [
  {
   "cell_type": "code",
   "execution_count": null,
   "metadata": {},
   "outputs": [],
   "source": [
    "from pipeline.base_pipeline import BasePipeline\n",
    "from pipeline.pipeline_runner import run_pipeline"
   ]
  },
  {
   "cell_type": "code",
   "execution_count": null,
   "metadata": {},
   "outputs": [],
   "source": [
    "pipeline = BasePipeline()"
   ]
  },
  {
   "cell_type": "code",
   "execution_count": null,
   "metadata": {},
   "outputs": [],
   "source": [
    "mbpp_result = run_pipeline(jsonl_path=\"datasets/mbpp.jsonl\", pipeline=pipeline, log_dir=\"logs\", function_key=\"code\", log_prefix=\"mbpp-baseline\", start=885, limit=1)"
   ]
  },
  {
   "cell_type": "code",
   "execution_count": null,
   "metadata": {},
   "outputs": [],
   "source": [
    "mbpp_result"
   ]
  },
  {
   "cell_type": "code",
   "execution_count": null,
   "metadata": {},
   "outputs": [],
   "source": [
    "humaneval_result = run_pipeline(jsonl_path=\"datasets/humaneval_cleaned.jsonl\", pipeline=pipeline, log_dir=\"logs\", function_key=\"function_code\", log_prefix=\"humaneval-baseline\", start=152, limit=1)"
   ]
  },
  {
   "cell_type": "code",
   "execution_count": null,
   "metadata": {},
   "outputs": [],
   "source": [
    "humaneval_result"
   ]
  }
 ],
 "metadata": {
  "kernelspec": {
   "display_name": "msc-proj-check",
   "language": "python",
   "name": "python3"
  },
  "language_info": {
   "codemirror_mode": {
    "name": "ipython",
    "version": 3
   },
   "file_extension": ".py",
   "mimetype": "text/x-python",
   "name": "python",
   "nbconvert_exporter": "python",
   "pygments_lexer": "ipython3",
   "version": "3.12.11"
  }
 },
 "nbformat": 4,
 "nbformat_minor": 2
}
